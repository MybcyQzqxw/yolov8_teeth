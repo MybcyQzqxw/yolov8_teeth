{
 "cells": [
  {
   "cell_type": "markdown",
   "id": "4f40eec3",
   "metadata": {},
   "source": [
    "# 🦷 YOLOv8 牙齿检测演示\n",
    "\n",
    "单张图片的牙齿检测效果演示，显示真实标签 vs 模型预测对比。\n",
    "\n",
    "## 使用方法\n",
    "1. 在下面第2个cell修改**模型路径**和**图片路径**\n",
    "2. 依次运行所有cell即可"
   ]
  },
  {
   "cell_type": "code",
   "execution_count": null,
   "id": "0702fbb1",
   "metadata": {},
   "outputs": [],
   "source": [
    "# ⚙️ 配置参数 - 请修改这两个路径\n",
    "\n",
    "# 1. 训练好的模型路径\n",
    "MODEL_PATH = \"../outputs/dentalai/train_yolov8n_2ep_2025_08_14_09_14_07/weights/best.pt\"\n",
    "\n",
    "# 2. 要检测的图片路径  \n",
    "IMAGE_PATH = \"../preprocessed_datasets/dentalai/test/images/1012_jpg.rf.8ed3d51db93a4be67e7083ed329c6039.jpg\"\n",
    "\n",
    "# ================== 以下不用修改 ==================\n",
    "\n",
    "# 导入库\n",
    "import os\n",
    "import sys\n",
    "from pathlib import Path\n",
    "sys.path.append('..')\n",
    "from utils.demo_utils import DentalDetectionDemo\n",
    "\n",
    "# 数据配置文件\n",
    "DATA_YAML = \"../preprocessed_datasets/dentalai/data.yaml\"\n",
    "\n",
    "print(f\"📦 模型路径: {MODEL_PATH}\")\n",
    "print(f\"🖼️ 图片路径: {IMAGE_PATH}\")\n",
    "print(f\"📋 数据配置: {DATA_YAML}\")\n",
    "\n",
    "# 检查文件存在性\n",
    "if not os.path.exists(MODEL_PATH):\n",
    "    print(f\"❌ 模型文件不存在: {MODEL_PATH}\")\n",
    "elif not os.path.exists(IMAGE_PATH):\n",
    "    print(f\"❌ 图片文件不存在: {IMAGE_PATH}\")\n",
    "elif not os.path.exists(DATA_YAML):\n",
    "    print(f\"❌ 数据配置文件不存在: {DATA_YAML}\")\n",
    "else:\n",
    "    print(\"✅ 所有文件存在，准备开始检测！\")"
   ]
  },
  {
   "cell_type": "code",
   "execution_count": null,
   "id": "36b26d3a",
   "metadata": {},
   "outputs": [],
   "source": [
    "# \ude80 初始化检测工具\n",
    "\n",
    "print(\"\udd04 正在初始化检测工具...\")\n",
    "demo = DentalDetectionDemo(MODEL_PATH, DATA_YAML)\n",
    "print(\"✅ 初始化完成！\")"
   ]
  },
  {
   "cell_type": "code",
   "execution_count": null,
   "id": "cc78a08c",
   "metadata": {},
   "outputs": [],
   "source": [
    "# 🎯 运行检测\n",
    "\n",
    "print(f\"🔄 开始检测: {os.path.basename(IMAGE_PATH)}\")\n",
    "print(\"=\"*50)\n",
    "\n",
    "# 运行检测和可视化\n",
    "analysis_result = demo.visualize_detection(IMAGE_PATH)\n",
    "\n",
    "print(\"=\"*50)\n",
    "print(\"✅ 检测完成！\")\n",
    "print(\"💡 绿色框=真实标签，红色框=模型预测\")"
   ]
  }
 ],
 "metadata": {
  "language_info": {
   "name": "python"
  }
 },
 "nbformat": 4,
 "nbformat_minor": 5
}
